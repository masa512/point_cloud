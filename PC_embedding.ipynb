{
  "nbformat": 4,
  "nbformat_minor": 0,
  "metadata": {
    "colab": {
      "provenance": [],
      "authorship_tag": "ABX9TyO3Dqte94Qe+7Az4nhaHa9O",
      "include_colab_link": true
    },
    "kernelspec": {
      "name": "python3",
      "display_name": "Python 3"
    },
    "language_info": {
      "name": "python"
    }
  },
  "cells": [
    {
      "cell_type": "markdown",
      "metadata": {
        "id": "view-in-github",
        "colab_type": "text"
      },
      "source": [
        "<a href=\"https://colab.research.google.com/github/masa512/point_cloud/blob/main/PC_embedding.ipynb\" target=\"_parent\"><img src=\"https://colab.research.google.com/assets/colab-badge.svg\" alt=\"Open In Colab\"/></a>"
      ]
    },
    {
      "cell_type": "code",
      "execution_count": 16,
      "metadata": {
        "id": "m_H7NJjJMYy9"
      },
      "outputs": [],
      "source": [
        "import torch \n",
        "import numpy as np\n",
        "import torch.nn as nn\n",
        "import math\n",
        "import random"
      ]
    },
    {
      "cell_type": "markdown",
      "source": [
        "## SAB Model\n",
        "\n",
        "Set Attention Block utilizes the input set to locally decide which part of the set to focus on. The SAB is defined as the following\n",
        "\n",
        "MAB(X,X)"
      ],
      "metadata": {
        "id": "sA0DMzdQMzRb"
      }
    },
    {
      "cell_type": "code",
      "source": [
        "class MAB(nn.Module):\n",
        "  def __init__(self,dim_Q, dim_K, dim_V, n_heads):\n",
        "    super(MAB,self).__init__()\n",
        "    self.dim_V = dim_V # Important since this is the output dimension\n",
        "    self.n_heads = n_heads\n",
        "\n",
        "    # Define the fully connected layer for key, val, query transform\n",
        "    self.wk = nn.Linear(dim_K,self.dim_V)\n",
        "    self.wq = nn.Linear(dim_Q,self.dim_V)\n",
        "    self.wv = nn.Linear(dim_K,self.dim_V)\n",
        "  \n",
        "  def forward(self,key,value,query):\n",
        "    # Projection\n",
        "    K = self.wk(key)\n",
        "    V = self.wv(value)\n",
        "    Q = self.wq(query)\n",
        "\n",
        "    batch_size = K.shape[0]\n",
        "\n",
        "    # Good to note -> Batch,seq_len,emb_dim\n",
        "    # Splitting ideally should give -> Batch,n_heads,seq_len,emb_dim\n",
        "\n",
        "    # Let's reshape the input beforehand\n",
        "    p_size = self.dim_V // self.n_heads\n",
        "    K_split = torch.split(K,split_size_or_sections=p_size, dim = -1)\n",
        "    V_split = torch.split(V,split_size_or_sections=p_size, dim = -1)\n",
        "    Q_split = torch.split(Q,split_size_or_sections=p_size, dim = -1)\n",
        "\n",
        "    K_ = torch.stack(K_split,dim=1)\n",
        "    V_ = torch.stack(V_split,dim=1)\n",
        "    Q_ = torch.stack(Q_split,dim=1)\n",
        "\n",
        "    # Now the dot product activation\n",
        "\n",
        "    A = torch.bmm(Q_.view(-1,Q_.shape[-2],Q_.shape[-1]),torch.transpose(K_.view(-1,K_.shape[-2],K_.shape[-1]),-1,-2))/math.sqrt(self.dim_V)\n",
        "    A = A.reshape(batch_size,-1,A.shape[-2],A.shape[-1])\n",
        "    # Softmax activation across embedding dimension\n",
        "    SM = nn.Softmax(dim=-1)\n",
        "    A = SM(A)\n",
        "    \n",
        "    # Apply activation on the Value and concatenate result\n",
        "    Y = torch.bmm(A.view(-1,A.shape[-2],A.shape[-1]),V_.view(-1,V_.shape[-2],V_.shape[-1])) # Output with dim Batch, n_heads, seq_len, p_dim \n",
        "    Y = Y.reshape((batch_size,-1,Y.shape[-2],Y.shape[-1]))\n",
        "    # Reorganize the dimensions to have Batch, seq_len, n_heads, p_dim\n",
        "    Y = torch.permute(Y,dims=(0,2,1,3))\n",
        "    Y = Y.reshape((Y.shape[0],Y.shape[1],-1))\n",
        "\n",
        "    return Y\n",
        "  \n",
        "\n",
        "\n"
      ],
      "metadata": {
        "id": "1jUEIXqZdeKB"
      },
      "execution_count": 53,
      "outputs": []
    },
    {
      "cell_type": "code",
      "source": [
        "class SAB(nn.Module):\n",
        "  \n",
        "  def __init__(self,in_dim,out_dim,n_heads):\n",
        "    super(SAB,self).__init__()\n",
        "    self.in_dim = in_dim\n",
        "    self.out_dim = out_dim\n",
        "\n",
        "    # Initialize the SAB Block\n",
        "    self.MAB = MAB(dim_Q = in_dim, dim_K = in_dim, dim_V = out_dim, n_heads = n_heads)\n",
        "    \n",
        "  def forward(self,Q,KV):\n",
        "    Y = self.MAB1(query = Q,key = KV,value = KV)\n",
        "\n",
        "    return Y\n"
      ],
      "metadata": {
        "id": "eVaTZccBMfhu"
      },
      "execution_count": 11,
      "outputs": []
    },
    {
      "cell_type": "code",
      "source": [
        "class ISAB(nn.Module):\n",
        "\n",
        "  def __init__(self,in_dim,out_dim,n_heads,compressed_len):\n",
        "    super(SAB,self).__init__()\n",
        "    self.in_dim = in_dim \n",
        "    self.out_dim = out_dim # Hidden dimension (latent)\n",
        "\n",
        "    # Initialize the MAB Block here\n",
        "    self.MAB1 = MAB(out_dim, in_dim, out_dim, n_heads)\n",
        "    self.MAB2 = MAB(in_dim, out_dim, out_dim,n_heads)\n",
        "    # Build a trainable tensor I that serves as the length_reduction query\n",
        "    self.I = nn.Parameter(torch.Tensor(1,compressed_len,out_dim))\n",
        "    nn.init.xavier_uniform_(self.I) # Xavier uniform dist.initialization\n",
        "\n",
        "  def forward(self,X):\n",
        "    H = self.MAB1(self.I.repeat(X.shape[0],1,1),X)\n",
        "    Y = self.MAB2(X,H)\n",
        "    return Y\n"
      ],
      "metadata": {
        "id": "YJKFh1oQUOWN"
      },
      "execution_count": 14,
      "outputs": []
    },
    {
      "cell_type": "code",
      "source": [
        "class PMA(nn.Module):\n",
        "  # This one preserves the input embedding dimmension, just for channel-wise operation\n",
        "  def __init__(self,embedding_dim, n_heads, out_length):\n",
        "    super(PMA,self).__init__()\n",
        "    self.MAB = MAB(embedding_dim,embedding_dim,embedding_dim,n_heads)\n",
        "    self.S = nn.Parameter(torch.Tensor(1,out_length,embedding_dim))\n",
        "    nn.init.xavier_uniform_(self.S)\n",
        "\n",
        "  def forward(self,X):\n",
        "    Y = self.MAB(self.S.repeat(X.shape[0],1,1),X)\n",
        "    \n"
      ],
      "metadata": {
        "id": "Rqyg0O1f34Ki"
      },
      "execution_count": 15,
      "outputs": []
    },
    {
      "cell_type": "markdown",
      "source": [
        "# Test the MAB functionality"
      ],
      "metadata": {
        "id": "gdmSdmCL8Wkr"
      }
    },
    {
      "cell_type": "code",
      "source": [
        "batch_size = 5\n",
        "seq_len = 100\n",
        "\n",
        "# Define a batch of random array of length seq_len\n",
        "rand_seq = torch.rand(size=(seq_len,))\n",
        "\n",
        "# We will only sample 75% indices from here\n",
        "percentage = 0.75\n",
        "N_sample = int(0.75*seq_len)\n",
        "rand_indices = random.sample(range(seq_len),N_sample)\n",
        "corr_values = torch.Tensor([rand_seq[i] for i in rand_indices])\n",
        "# We will build a new tensor that appends the position on the audio sequence [idx,x]\n",
        "X = torch.stack([torch.Tensor(rand_indices),corr_values],dim=-1)\n",
        "X = X.reshape(1,X.shape[0],X.shape[1])\n",
        "\n"
      ],
      "metadata": {
        "colab": {
          "base_uri": "https://localhost:8080/"
        },
        "id": "9HPsfDoq8Soc",
        "outputId": "20c092cc-894c-49f1-a2d4-625094687cdc"
      },
      "execution_count": 31,
      "outputs": [
        {
          "output_type": "stream",
          "name": "stdout",
          "text": [
            "torch.Size([75])\n"
          ]
        }
      ]
    },
    {
      "cell_type": "code",
      "source": [
        "# Plot the data on the numberline for fun\n",
        "import matplotlib.pyplot as plt \n",
        "f = plt.scatter(X[0,:,0],X[0,:,1])"
      ],
      "metadata": {
        "colab": {
          "base_uri": "https://localhost:8080/",
          "height": 265
        },
        "id": "hh-JQxI1-DDt",
        "outputId": "754cc500-2006-473b-f241-f107969378fc"
      },
      "execution_count": 37,
      "outputs": [
        {
          "output_type": "display_data",
          "data": {
            "text/plain": [
              "<Figure size 432x288 with 1 Axes>"
            ],
            "image/png": "[encoded data removed]"
          },
          "metadata": {
            "needs_background": "light"
          }
        }
      ]
    },
    {
      "cell_type": "code",
      "source": [
        "# Define a MAB Block\n",
        "dim_Q = 2\n",
        "dim_K = 2\n",
        "dim_V = 2\n",
        "n_heads = 1\n",
        "model = MAB(dim_Q, dim_K, dim_V, n_heads)\n",
        "\n",
        "# Forward_pass\n",
        "Y = model(X,X,X)\n",
        "\n",
        "print(Y.shape)"
      ],
      "metadata": {
        "colab": {
          "base_uri": "https://localhost:8080/"
        },
        "id": "HMQ7c1vHElHM",
        "outputId": "d15bc0ee-05eb-43ee-835a-c6c8ad0a304c"
      },
      "execution_count": 55,
      "outputs": [
        {
          "output_type": "stream",
          "name": "stdout",
          "text": [
            "torch.Size([1, 75, 2])\n"
          ]
        }
      ]
    },
    {
      "cell_type": "code",
      "source": [],
      "metadata": {
        "id": "bzL4vApeGp79"
      },
      "execution_count": null,
      "outputs": []
    }
  ]
}